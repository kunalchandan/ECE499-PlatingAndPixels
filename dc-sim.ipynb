{
 "cells": [
  {
   "cell_type": "code",
   "execution_count": 1,
   "id": "65e2f9ab-049c-4273-9ee6-1ca7f5ea385a",
   "metadata": {},
   "outputs": [],
   "source": [
    "\n",
    "import numpy as np\n",
    "\n",
    "import ufl\n",
    "from dolfinx import fem, io, mesh, plot\n",
    "from ufl import ds, dx, grad, inner\n",
    "\n",
    "from mpi4py import MPI\n",
    "from petsc4py.PETSc import ScalarType\n"
   ]
  },
  {
   "cell_type": "code",
   "execution_count": 2,
   "id": "1316cdf8",
   "metadata": {},
   "outputs": [
    {
     "ename": "AttributeError",
     "evalue": "module 'ffcx' has no attribute 'get_parameters'",
     "output_type": "error",
     "traceback": [
      "\u001b[0;31m---------------------------------------------------------------------------\u001b[0m",
      "\u001b[0;31mAttributeError\u001b[0m                            Traceback (most recent call last)",
      "Cell \u001b[0;32mIn[2], line 5\u001b[0m\n\u001b[1;32m      1\u001b[0m msh \u001b[39m=\u001b[39m mesh\u001b[39m.\u001b[39mcreate_rectangle(comm\u001b[39m=\u001b[39mMPI\u001b[39m.\u001b[39mCOMM_WORLD,\n\u001b[1;32m      2\u001b[0m                             points\u001b[39m=\u001b[39m((\u001b[39m0.0\u001b[39m, \u001b[39m0.0\u001b[39m), (\u001b[39m2.0\u001b[39m, \u001b[39m1.0\u001b[39m)), n\u001b[39m=\u001b[39m(\u001b[39m32\u001b[39m, \u001b[39m16\u001b[39m),\n\u001b[1;32m      3\u001b[0m                             cell_type\u001b[39m=\u001b[39mmesh\u001b[39m.\u001b[39mCellType\u001b[39m.\u001b[39mtriangle,)\n\u001b[1;32m      4\u001b[0m \u001b[39m# Define the function space\u001b[39;00m\n\u001b[0;32m----> 5\u001b[0m V \u001b[39m=\u001b[39m fem\u001b[39m.\u001b[39;49mFunctionSpace(msh, (\u001b[39m\"\u001b[39;49m\u001b[39mLagrange\u001b[39;49m\u001b[39m\"\u001b[39;49m, \u001b[39m1\u001b[39;49m))\n\u001b[1;32m      7\u001b[0m \u001b[39m# Define the boundary conditions\u001b[39;00m\n\u001b[1;32m      8\u001b[0m \u001b[39mdef\u001b[39;00m \u001b[39mjoe\u001b[39m(x: np\u001b[39m.\u001b[39mndarray) \u001b[39m-\u001b[39m\u001b[39m>\u001b[39m np\u001b[39m.\u001b[39mndarray:\n",
      "File \u001b[0;32m/usr/lib/petsc/lib/python3/dist-packages/dolfinx/fem/function.py:457\u001b[0m, in \u001b[0;36mFunctionSpace.__init__\u001b[0;34m(self, mesh, element, cppV, form_compiler_params, jit_params)\u001b[0m\n\u001b[1;32m    454\u001b[0m     \u001b[39msuper\u001b[39m()\u001b[39m.\u001b[39m\u001b[39m__init__\u001b[39m(mesh\u001b[39m.\u001b[39mufl_domain(), ufl_element)\n\u001b[1;32m    456\u001b[0m \u001b[39m# Compile dofmap and element and create DOLFIN objects\u001b[39;00m\n\u001b[0;32m--> 457\u001b[0m (\u001b[39mself\u001b[39m\u001b[39m.\u001b[39m_ufcx_element, \u001b[39mself\u001b[39m\u001b[39m.\u001b[39m_ufcx_dofmap), module, code \u001b[39m=\u001b[39m jit\u001b[39m.\u001b[39;49mffcx_jit(\n\u001b[1;32m    458\u001b[0m     mesh\u001b[39m.\u001b[39;49mcomm, \u001b[39mself\u001b[39;49m\u001b[39m.\u001b[39;49mufl_element(), form_compiler_params\u001b[39m=\u001b[39;49mform_compiler_params,\n\u001b[1;32m    459\u001b[0m     jit_params\u001b[39m=\u001b[39;49mjit_params)\n\u001b[1;32m    461\u001b[0m ffi \u001b[39m=\u001b[39m module\u001b[39m.\u001b[39mffi\n\u001b[1;32m    462\u001b[0m cpp_element \u001b[39m=\u001b[39m _cpp\u001b[39m.\u001b[39mfem\u001b[39m.\u001b[39mFiniteElement(ffi\u001b[39m.\u001b[39mcast(\u001b[39m\"\u001b[39m\u001b[39muintptr_t\u001b[39m\u001b[39m\"\u001b[39m, ffi\u001b[39m.\u001b[39maddressof(\u001b[39mself\u001b[39m\u001b[39m.\u001b[39m_ufcx_element)))\n",
      "File \u001b[0;32m/usr/lib/petsc/lib/python3/dist-packages/dolfinx/jit.py:56\u001b[0m, in \u001b[0;36mmpi_jit_decorator.<locals>.mpi_jit\u001b[0;34m(comm, *args, **kwargs)\u001b[0m\n\u001b[1;32m     51\u001b[0m \u001b[39m@functools\u001b[39m\u001b[39m.\u001b[39mwraps(local_jit)\n\u001b[1;32m     52\u001b[0m \u001b[39mdef\u001b[39;00m \u001b[39mmpi_jit\u001b[39m(comm, \u001b[39m*\u001b[39margs, \u001b[39m*\u001b[39m\u001b[39m*\u001b[39mkwargs):\n\u001b[1;32m     53\u001b[0m \n\u001b[1;32m     54\u001b[0m     \u001b[39m# Just call JIT compiler when running in serial\u001b[39;00m\n\u001b[1;32m     55\u001b[0m     \u001b[39mif\u001b[39;00m comm\u001b[39m.\u001b[39msize \u001b[39m==\u001b[39m \u001b[39m1\u001b[39m:\n\u001b[0;32m---> 56\u001b[0m         \u001b[39mreturn\u001b[39;00m local_jit(\u001b[39m*\u001b[39;49margs, \u001b[39m*\u001b[39;49m\u001b[39m*\u001b[39;49mkwargs)\n\u001b[1;32m     58\u001b[0m     \u001b[39m# Default status (0 == ok, 1 == fail)\u001b[39;00m\n\u001b[1;32m     59\u001b[0m     status \u001b[39m=\u001b[39m \u001b[39m0\u001b[39m\n",
      "File \u001b[0;32m/usr/lib/petsc/lib/python3/dist-packages/dolfinx/jit.py:199\u001b[0m, in \u001b[0;36mffcx_jit\u001b[0;34m(ufl_object, form_compiler_params, jit_params)\u001b[0m\n\u001b[1;32m    153\u001b[0m \u001b[39m\u001b[39m\u001b[39m\"\"\"Compile UFL object with FFCx and CFFI.\u001b[39;00m\n\u001b[1;32m    154\u001b[0m \n\u001b[1;32m    155\u001b[0m \u001b[39mArgs:\u001b[39;00m\n\u001b[0;32m   (...)\u001b[0m\n\u001b[1;32m    196\u001b[0m \n\u001b[1;32m    197\u001b[0m \u001b[39m\"\"\"\u001b[39;00m\n\u001b[1;32m    198\u001b[0m \u001b[39m# Prepare form compiler parameters with priority parameters\u001b[39;00m\n\u001b[0;32m--> 199\u001b[0m p_ffcx \u001b[39m=\u001b[39m ffcx\u001b[39m.\u001b[39;49mget_parameters(form_compiler_params)\n\u001b[1;32m    200\u001b[0m p_jit \u001b[39m=\u001b[39m get_parameters(jit_params)\n\u001b[1;32m    202\u001b[0m \u001b[39m# Switch on type and compile, returning cffi object\u001b[39;00m\n",
      "\u001b[0;31mAttributeError\u001b[0m: module 'ffcx' has no attribute 'get_parameters'"
     ]
    }
   ],
   "source": [
    "\n",
    "msh = mesh.create_rectangle(comm=MPI.COMM_WORLD,\n",
    "                            points=((0.0, 0.0), (2.0, 1.0)), n=(32, 16),\n",
    "                            cell_type=mesh.CellType.triangle,)\n",
    "# Define the function space\n",
    "V = fem.FunctionSpace(msh, (\"Lagrange\", 1))\n",
    "\n",
    "# Define the boundary conditions\n",
    "def joe(x: np.ndarray) -> np.ndarray:\n",
    "    print('t- x', type(x))\n",
    "    calc1 = np.logical_and(0.25 <= x[0], x[0] <= 0.75)\n",
    "    calc2 = np.logical_and(0.25 <= x[1], x[1] <= 0.75)\n",
    "    calc3 = np.logical_and(0.25 <= x[2], x[2] <= 0.75)\n",
    "    calc = np.logical_and(calc1, calc2, calc3)\n",
    "    # calc = ((0.25 <= x[0] <= 0.75) and (0.25 <= x[1] <= 0.75) and (0.25 <= x[2] <= 0.75))\n",
    "    print('t- calc', type(calc))\n",
    "    print('t- all', type(np.all(calc)))\n",
    "    return calc\n",
    "\n",
    "def mama(x: np.ndarray) -> np.ndarray:\n",
    "    print('t- x', type(x))\n",
    "    calc1 = np.logical_and(1.25 <= x[0], x[0] <= 1.75)\n",
    "    calc2 = np.logical_and(1.25 <= x[1], x[1] <= 1.75)\n",
    "    calc3 = np.logical_and(1.25 <= x[2], x[2] <= 1.75)\n",
    "    calc = np.logical_and(calc1, calc2, calc3)\n",
    "    # calc = ((1.25 <= x[0] <= 1.75) and (1.25 <= x[1] <= 1.75) and (1.25 <= x[2] <= 1.75))\n",
    "    print('t- calc', type(calc))\n",
    "    print('t- all', type(np.all(calc)))\n",
    "    return calc"
   ]
  },
  {
   "cell_type": "code",
   "execution_count": null,
   "id": "c9cb928b",
   "metadata": {},
   "outputs": [],
   "source": []
  }
 ],
 "metadata": {
  "kernelspec": {
   "display_name": "Python 3 (ipykernel)",
   "language": "python",
   "name": "python3"
  },
  "language_info": {
   "codemirror_mode": {
    "name": "ipython",
    "version": 3
   },
   "file_extension": ".py",
   "mimetype": "text/x-python",
   "name": "python",
   "nbconvert_exporter": "python",
   "pygments_lexer": "ipython3",
   "version": "3.10.6"
  }
 },
 "nbformat": 4,
 "nbformat_minor": 5
}
